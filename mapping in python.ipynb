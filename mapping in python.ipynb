{
 "cells": [
  {
   "cell_type": "code",
   "execution_count": 1,
   "id": "294a8387-9d09-4fc9-8ce4-bc17ee3cc541",
   "metadata": {},
   "outputs": [
    {
     "name": "stdout",
     "output_type": "stream",
     "text": [
      "True\n",
      "False\n",
      "False\n",
      "[True, False, False, True]\n",
      "[True, False, False, True]\n",
      "['wow', 'madam']\n"
     ]
    }
   ],
   "source": [
    "# MAPPING \n",
    "# q1) CREATE A FUNCTION TOCHECK THE WORD IS PALINDROME OR NOT?\n",
    "\n",
    "l=[\"wow\",\"noce\",\"chi chi \",\"madam\"]\n",
    "\n",
    "is_palindrome = lambda word : word==word[::-1]\n",
    "\n",
    "print(is_palindrome(\"mom\"))\n",
    "\n",
    "print(is_palindrome(\"mango\"))\n",
    "\n",
    "# print(is_palindrome(word \"mom\",\"mango\")) #type error\n",
    "\n",
    "print(is_palindrome((\"mom\",\"mango\")))\n",
    "\n",
    "# map\n",
    "\n",
    "is_palindrome =lambda word : word==word[::-1]\n",
    "\n",
    "map_res =  map(is_palindrome , l)\n",
    "\n",
    "# print(map_res)\n",
    "\n",
    "#type casting\n",
    "\n",
    "print(list(map_res))\n",
    "\n",
    "#dynamic iteration \n",
    "\n",
    "for ans in map_res:\n",
    "    print(ans)\n",
    "\n",
    "# TYPE CASTING \n",
    "# SINGLE LINE MAP FUNCTION\n",
    "\n",
    "print(list(map(lambda word : word == word[::-1],[\"wow\",\"nice\",\"chi chi\",\"madam\"])))\n",
    "\n",
    "# FILTER \n",
    "# SINGLE LINE FILTER FUNCTION\n",
    "\n",
    "print(list(filter(lambda word : word == word[::-1] , [\"wow\",\"nice\",\"mango\",\"madam\"])))\n",
    "\n",
    "\n"
   ]
  },
  {
   "cell_type": "code",
   "execution_count": 2,
   "id": "4f0efb97-bf08-4312-afb7-4276b9bd6f89",
   "metadata": {},
   "outputs": [
    {
     "name": "stdout",
     "output_type": "stream",
     "text": [
      "[100, 104, 112]\n",
      "[100.102, 111]\n",
      "[100, 104]\n"
     ]
    }
   ],
   "source": [
    "#Q2) WAP TO ADD SAME POSITION VALUE ?\n",
    "\n",
    "add_same_position_value = lambda l1ele,l2ele : l1ele + l2ele\n",
    "res = map(add_same_position_value,[1,2,3],[99,102,109])\n",
    "\n",
    "# #TYPE CASTING\n",
    "print(list(res))\n",
    "\n",
    "# # DYNAMIC ITERATOR\n",
    "\n",
    "for ans in res:\n",
    "    print(ans)\n",
    "\n",
    "# # SINGLE LINE MAP\n",
    "\n",
    "print(list(map(lambda l1ele,l2ele : l1ele + l2ele,[1,2,3],[99.102,109])))\n",
    "\n",
    "# # different len ---> consider the list which is having less ele lead data loss\n",
    "\n",
    "print(list( map ( lambda l1ele,l2ele : l1ele + l2ele ,[1,2,3],[99,102])))\n",
    "\n",
    "# filter\n",
    "# WE CANNOT PASS 2 ITERABLE ONLY ONE WE CAN PASS\n",
    "# print(list( filter ( lambda l1ele,l2ele : l1ele + l2ele,[1,2,3],,[99.102]))\n",
    "\n"
   ]
  },
  {
   "cell_type": "code",
   "execution_count": null,
   "id": "5c2c5b21-19b2-4d3e-becc-1c28cabbbb9b",
   "metadata": {},
   "outputs": [],
   "source": []
  }
 ],
 "metadata": {
  "kernelspec": {
   "display_name": "Python 3 (ipykernel)",
   "language": "python",
   "name": "python3"
  },
  "language_info": {
   "codemirror_mode": {
    "name": "ipython",
    "version": 3
   },
   "file_extension": ".py",
   "mimetype": "text/x-python",
   "name": "python",
   "nbconvert_exporter": "python",
   "pygments_lexer": "ipython3",
   "version": "3.13.2"
  }
 },
 "nbformat": 4,
 "nbformat_minor": 5
}
