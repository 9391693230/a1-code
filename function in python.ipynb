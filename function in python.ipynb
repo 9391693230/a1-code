{
 "cells": [
  {
   "cell_type": "code",
   "execution_count": 1,
   "id": "85348694-db7c-4d22-aa5a-0b5ea25a121f",
   "metadata": {},
   "outputs": [],
   "source": [
    "# name= input(\"enter your name : \")\n",
    "# age=int(input(\"enter your age :\"))\n",
    "# if age >=18:\n",
    "#     print(\"eligible\")\n",
    "# else:\n",
    "#     raise exception(\"not eligible\")\n",
    "\n",
    "# mobile=int(input(\" enter your number :\"))\n",
    "# print(f\"name : {name}\\nage : {age} \\nmobile : {mobile}\")"
   ]
  },
  {
   "cell_type": "code",
   "execution_count": 2,
   "id": "f0d6a19c-bf11-4b60-92db-e2bfcae3d995",
   "metadata": {},
   "outputs": [],
   "source": [
    " #FUNCTIONS\n",
    "#  DEFINITION : \n",
    "\n",
    "#  FUNCTION IS A PYTHON ARE BLOCKS OF ORGAINZED AND REUSABLE CODE THAR PERFORMS A SPECIFIC TASK,\n",
    "#  THE PLAY FUNDEMENTAL ROLE IN STRUCTURING PYTHON PROGRAMMING ENHANCINF=G CODE READBILITY ,AND PROMTING CODE REUSABILITY\n",
    "\n",
    "#  A FUNCTION IS A BLOCK OF CODE WHICH ONLY RUNS WHEN IT IS CALLED.\n",
    "#   AS A PROGRAM GROW LARGER,FUNCTION MAKE IT MORE ORGAINZED AND MANAGABLE.\n",
    "\n",
    "#  FUNCTION AVOIDS REPETITION AND MAKE THE CODE REUSABLE.\n",
    "#  FUNCTION ALLOWS YOU TO BREAK DOWN A COMPLEX PROGRAM INTO SMALLER,MANAGABLE.\n",
    "\n",
    "#  CHANGES OR UPDATES CAN BE MADE MORE EASILY WHEN CODE IS ORGAINZED INTO FUNCTIONS .\n",
    "\n",
    "# FUNCTION DEFINITION: \n",
    "\n",
    "# def function_name(parameters): -> function definition/declaration\n",
    "#      |      function     |\n",
    "#      |       block       |\n",
    "\n",
    "# function_name(argument)       -> function call\n",
    "\n",
    "# DEF KEYWORD---> MARK THE BEGINING OF A FUNCTION DEFINITION.\n",
    "    \n",
    "# FUNCTION_NAME---> THE NAME OF THE FUNCTION, FOLLOWING PYTHON VARIBLE NAMING CONVENTIONS.\n",
    "\n",
    "# PARAMETERS---> INPUT VALUE THAT THE FUNCTION EXPECTS(OPTIONAL).\n",
    "\n",
    "# ARGUMENTS---> THE VALUE WHICH ARE PASSING TO THE PARAMETERS.\n",
    "\n",
    "# RETURN---> KEYWORD.\n",
    "\n",
    "# # CLASSIFICATION OF FUNCTIONS:\n",
    "\n",
    "# THE FUNCTIONS ARECLASSIFIED INTO 2 TYPES:\n",
    "\n",
    "# 1.PRE -DEFINIED:\n",
    "# THESE ARE DESIGNED BY PYTHON DEVELOPERS.\n",
    "# EACH PRE-DEFINIED FUNCTION WILL PERFORM A SPECIFIC / UNIQUE TASK.\n",
    "\n",
    "# TYPES:->\n",
    "\n",
    "# 1.PRE-DEFINED UTILITY FUNCTIONS\n",
    "# 2.STRING BUILT-FUNCTIONS.\n",
    "# 3.LIST\n",
    "# 4.TUPLE\n",
    "# 5.SET\n",
    "# 6.DICTIONARY\n",
    "\n",
    "# USER DEFINED FUNCTIONS:\n",
    "\n",
    "# THESE ARE DESIGNED BY PROGRAMMERS / END USERS FOR REAL TIME PROBLES / SCENARIOS.\n",
    "\n",
    "# IT IS DEFINED INTO 4 TYPES:\n",
    "\n",
    "# 1.FUNCTION WITHOUT ARGUMENTS WITHOUT RETURN STATEMENT\n",
    "# 2.FUNCTION WITHOUT ARGUMENTS WITH RETURN STATEMENT\n",
    "\n",
    "# 3..FUNCTION WITH ARGUMENTS WITH RETURN STATEMENT\n",
    "# 4.FUNCTION WITH ARGUMENTS WITHOUT RETURN STATEMENT\n"
   ]
  },
  {
   "cell_type": "code",
   "execution_count": 3,
   "id": "980bfebb-3d7d-4d02-ad26-fb1e4fe2bcaa",
   "metadata": {},
   "outputs": [
    {
     "name": "stdout",
     "output_type": "stream",
     "text": [
      "60\n",
      "600\n",
      "ashok\n"
     ]
    }
   ],
   "source": [
    "def add_3(a,b,c):\n",
    "     print(a+b+c)\n",
    "add_3(10,20,30)\n",
    "add_3(100,200,300)\n",
    "print(\"ashok\")\n"
   ]
  },
  {
   "cell_type": "code",
   "execution_count": 4,
   "id": "474d067b-2fe0-4926-ad75-caffac5b755e",
   "metadata": {},
   "outputs": [
    {
     "name": "stdout",
     "output_type": "stream",
     "text": [
      "name of the student virat,and the age is : 36\n",
      "name of the student dhoni,and the age is : 43\n"
     ]
    }
   ],
   "source": [
    "def std_details(name,age):\n",
    "\n",
    "  print(f\"name of the student {name},and the age is : {age}\")\n",
    "\n",
    "std_details(\"virat\",36)\n",
    "std_details(\"dhoni\",43)"
   ]
  },
  {
   "cell_type": "code",
   "execution_count": 5,
   "id": "45483037-e913-45b2-852f-d3fbe0305624",
   "metadata": {},
   "outputs": [
    {
     "name": "stdout",
     "output_type": "stream",
     "text": [
      "600\n",
      "60\n"
     ]
    }
   ],
   "source": [
    "def n(a,b,c):\n",
    "    print(a+b+c)\n",
    "n(100,200,300)\n",
    "n(10,20,30)"
   ]
  },
  {
   "cell_type": "code",
   "execution_count": 6,
   "id": "a1c89ddb-435c-41ae-8514-a0fdf5f5aa10",
   "metadata": {},
   "outputs": [],
   "source": [
    "# user defined functions: 4 TYPES:\n",
    "\n",
    "# 1.WITH ARG WITHOUT ARG \n",
    "# 2.WITHOUT ARG WITH ARG\n",
    "# 3.WITH ARG WITH ARG\n",
    "# 4.WITHOUT ARG WITHOUT ARG"
   ]
  },
  {
   "cell_type": "code",
   "execution_count": 7,
   "id": "68a78ee8-b06e-4fef-a807-a708ecf86ab2",
   "metadata": {},
   "outputs": [
    {
     "name": "stdout",
     "output_type": "stream",
     "text": [
      "60\n"
     ]
    }
   ],
   "source": [
    "#WITH ARG WITHOUT ARG\n",
    "\n",
    "def add_3(a,b,c):\n",
    "  print(a+b+c)\n",
    "\n",
    "add_3(10,20,30)"
   ]
  },
  {
   "cell_type": "code",
   "execution_count": 8,
   "id": "6e41f6cc-3cd9-41cb-af7a-2077855cb83b",
   "metadata": {},
   "outputs": [
    {
     "name": "stdout",
     "output_type": "stream",
     "text": [
      "39\n"
     ]
    }
   ],
   "source": [
    "# WITH ARG WITH RETURN\n",
    "\n",
    "def add_3(a,b,c):\n",
    "   return a+b+c\n",
    "\n",
    "# add_3(10,20,30)\n",
    "# res=add_3(12,13,14)\n",
    "# print(res)\n",
    "# or\n",
    "\n",
    "print(add_3(12,13,14))"
   ]
  },
  {
   "cell_type": "code",
   "execution_count": 9,
   "id": "1f40be93-b5f5-42fe-b1ad-1069efb3ed41",
   "metadata": {},
   "outputs": [],
   "source": [
    "# WITHOUT ARG WITH RETURN\n",
    "\n",
    "# a,b=int(input(\"enter 1st number:\")),int(input(\"enter 2nd number :\"))\n",
    "\n",
    "# def add_2():\n",
    "#   return a+b\n",
    "# # add_2()\n",
    "# # or\n",
    "\n",
    "# # res=add_2()\n",
    "# # print(res)\n",
    "\n",
    "# # or\n",
    "# print(add_2())"
   ]
  },
  {
   "cell_type": "code",
   "execution_count": 10,
   "id": "8cc97333-954d-49e0-8ea2-8972b2849f3b",
   "metadata": {},
   "outputs": [],
   "source": [
    "# WITHOUT ARG WITHOUT RETURN\n",
    "\n",
    "# def add_2():\n",
    "#   a,b=int(input(\"enter 1st number:\")),int(input(\"enter 2nd number :\"))\n",
    "#   print(a+b)\n",
    "\n",
    "# # add_2()\n",
    "\n",
    "# res=add_2()\n",
    "# print(res)"
   ]
  },
  {
   "cell_type": "code",
   "execution_count": 11,
   "id": "bf9ee743-6a66-4cfa-ba6e-35ff24800f5d",
   "metadata": {},
   "outputs": [],
   "source": [
    "###################### TYPES OF ARGUMENTS ######################\n",
    "\n",
    "# 1.POSITIONAL ARGUMENT\n",
    "# 2.KEYWORD AGRUMENT \n",
    "# 3.COMBINATION OF POSITIONAL ARGUMENT AND KEYWORD ARGUMENT\n",
    "# 4.POSITIONAL ONLY ARGUMENT(/) AFTER THE PARAMETER\n",
    "# 5.KEYWPRD ONLY ARGUMENT() BEFORE THE PARAMETER \n",
    "# 6.COMBINATION OF POISTIONAL ONLY ARGUMENTS AND KEYWORD ONLY ARGUMENT(/,)\n",
    "# 7.TUPLE VARIABLE LEN OF ARGUMENT \n",
    "# 8.DICT VARIABLE LEN OF ARGUMENT\n",
    "# 9.COMBINATION OF TUPLE VARIABLE LEN OF ARGUMENT AND DICT VARIABLE LEN OF ARGUMENT \n",
    "# 10.DEFAULT PARAMETER"
   ]
  },
  {
   "cell_type": "code",
   "execution_count": 12,
   "id": "c153520e-13e1-48c3-b360-2aa19a65c01f",
   "metadata": {},
   "outputs": [
    {
     "name": "stdout",
     "output_type": "stream",
     "text": [
      "10\n",
      "20\n"
     ]
    }
   ],
   "source": [
    "# 1.POSITIONAL ARGUMENT\n",
    "def display(a,b):\n",
    "    print(a,b,sep=\"\\n\")\n",
    "\n",
    "display(10,20)"
   ]
  },
  {
   "cell_type": "code",
   "execution_count": 13,
   "id": "6e4ebc54-3cd4-4203-9266-39faab3da411",
   "metadata": {},
   "outputs": [
    {
     "name": "stdout",
     "output_type": "stream",
     "text": [
      "10\n",
      "20\n"
     ]
    }
   ],
   "source": [
    " #  2.KEYWORD AGRUMENT\n",
    "def display(a,b):\n",
    "    print(a,b,sep=\"\\n\")\n",
    "\n",
    "display(a=10,b=20)"
   ]
  },
  {
   "cell_type": "code",
   "execution_count": 14,
   "id": "97bf61ac-2d6b-41ca-bcd0-814f0e688a84",
   "metadata": {},
   "outputs": [
    {
     "name": "stdout",
     "output_type": "stream",
     "text": [
      "10\n",
      "20\n"
     ]
    }
   ],
   "source": [
    "# 3.COMBINATION OF POSITIONAL ARGUMENT AND KEYWORD ARGUMENT\n",
    "def display(a,b):\n",
    "    print(a,b,sep=\"\\n\")\n",
    "\n",
    "display(10,b=20)\n"
   ]
  },
  {
   "cell_type": "code",
   "execution_count": 15,
   "id": "e6656fad-c1b1-4d26-96aa-11d9318f92eb",
   "metadata": {},
   "outputs": [
    {
     "name": "stdout",
     "output_type": "stream",
     "text": [
      "10\n",
      "20\n"
     ]
    }
   ],
   "source": [
    "# 4.POSITIONAL ONLY ARGUMENT(/) AFTER THE PARAMETER\n",
    "def display (a,b,/):\n",
    "    print(a,b,sep=\"\\n\")\n",
    "display(10,20)"
   ]
  },
  {
   "cell_type": "code",
   "execution_count": 16,
   "id": "f2b95da1-605b-40e4-9490-4885f4a1e64b",
   "metadata": {},
   "outputs": [
    {
     "name": "stdout",
     "output_type": "stream",
     "text": [
      "10\n",
      "20\n"
     ]
    }
   ],
   "source": [
    "# 5.KEYWPRD ONLY ARGUMENT(*) BEFORE THE PARAMETER\n",
    "def display(*,a,b):\n",
    "    print(a,b,sep=\"\\n\")\n",
    "display(a=10,b=20)"
   ]
  },
  {
   "cell_type": "code",
   "execution_count": 17,
   "id": "2b852f04-65fe-4eac-8a8c-a8a56e60015c",
   "metadata": {},
   "outputs": [
    {
     "name": "stdout",
     "output_type": "stream",
     "text": [
      "10\n",
      "20\n",
      "30\n",
      "40\n"
     ]
    }
   ],
   "source": [
    "# 6.COMBINATION OF POISTIONAL ONLY ARGUMENTS AND KEYWORD ONLY ARGUMENT(/,*)\n",
    "def display(a,b,/,*,c,d):\n",
    "    print(a,b,c,d,sep=\"\\n\")\n",
    "display(10,20,c=30,d=40)"
   ]
  },
  {
   "cell_type": "code",
   "execution_count": 18,
   "id": "5e68553a-15a0-4100-9876-b38e16eed8ee",
   "metadata": {},
   "outputs": [
    {
     "name": "stdout",
     "output_type": "stream",
     "text": [
      "(10, 20, 30, 40, 50)\n",
      "10\n",
      "50\n",
      "(10,)\n",
      "150\n"
     ]
    }
   ],
   "source": [
    "# 7.TUPLE VARIABLE LEN OF ARGUMENT\n",
    "\n",
    "def display (*args):\n",
    "    print(args)\n",
    "    \n",
    "    #indexing \n",
    "    \n",
    "    print(args[0])\n",
    "    print(args[-1])\n",
    "    #slicing var[si:ei+1:sv]\n",
    "    \n",
    "    print(args[0:2:5])\n",
    "    \n",
    "    #addition ele\n",
    "    \n",
    "    total = 0\n",
    "    for i in args:\n",
    "        total += i\n",
    "    print(total)\n",
    "    \n",
    "display(10,20,30,40,50)\n",
    "\n"
   ]
  },
  {
   "cell_type": "code",
   "execution_count": 19,
   "id": "5097b8d4-c07e-4c90-9b5a-9db9481dd4ff",
   "metadata": {},
   "outputs": [
    {
     "name": "stdout",
     "output_type": "stream",
     "text": [
      "{'a': 10, 'b': 20}\n",
      "dict_keys(['a', 'b'])\n",
      "dict_values([10, 20])\n",
      "dict_items([('a', 10), ('b', 20)])\n",
      "10\n",
      "a|10\n",
      "b|20\n",
      "30\n"
     ]
    }
   ],
   "source": [
    "# 8.DICT VARIABLE LEN OF ARGUMENT\n",
    "\n",
    "def display(**kwargs):\n",
    "    print(kwargs)\n",
    "\n",
    "    # all the keys\n",
    "    print(kwargs.keys())\n",
    "\n",
    "    # all the values\n",
    "    print(kwargs.values())\n",
    "\n",
    "    #pair\n",
    "    print(kwargs.items())\n",
    "\n",
    "    #single valus\n",
    "    #dict[key]---> syntax\n",
    "\n",
    "    print(kwargs[\"a\"])\n",
    "\n",
    "    #unpacking key and values\n",
    "    for k,v in kwargs.items():\n",
    "        print(k,v,sep=\"|\")\n",
    "    # adding values \n",
    "    total =0\n",
    "    for v in kwargs.values():\n",
    "        total +=v\n",
    "\n",
    "    print(total)\n",
    "    \n",
    "display(a=10,b=20)"
   ]
  },
  {
   "cell_type": "code",
   "execution_count": 20,
   "id": "cff7148b-d14b-459a-8191-ba3c4ed1849a",
   "metadata": {},
   "outputs": [
    {
     "name": "stdout",
     "output_type": "stream",
     "text": [
      "(10, 20, 30)\n",
      "{'c': 40, 'd': 50}\n"
     ]
    }
   ],
   "source": [
    "# 9.COMBINATION OF TUPLE VARIABLE LEN OF ARGUMENT AND DICT VARIABLE LEN OF ARGUMENT \n",
    "\n",
    "def display(*args,**kwargs):\n",
    "    print(args)\n",
    "    print(kwargs)\n",
    "\n",
    "display(10,20,30,c=40,d=50)\n"
   ]
  },
  {
   "cell_type": "code",
   "execution_count": 21,
   "id": "f741d34c-08a8-4407-b275-b63ba648b905",
   "metadata": {},
   "outputs": [
    {
     "name": "stdout",
     "output_type": "stream",
     "text": [
      "0\n",
      "10\n",
      "32\n",
      "65\n",
      "110\n"
     ]
    }
   ],
   "source": [
    "# 10.DEFAULT PARAMETER\n",
    "\n",
    "def add (a = 0, b = 0, c = 0, d = 0):\n",
    "    print(a+b+c+d)\n",
    "\n",
    "add()\n",
    "add(10)\n",
    "add(10,22)\n",
    "add(10,22,33)\n",
    "add(11,22,33,44)"
   ]
  }
 ],
 "metadata": {
  "kernelspec": {
   "display_name": "Python 3 (ipykernel)",
   "language": "python",
   "name": "python3"
  },
  "language_info": {
   "codemirror_mode": {
    "name": "ipython",
    "version": 3
   },
   "file_extension": ".py",
   "mimetype": "text/x-python",
   "name": "python",
   "nbconvert_exporter": "python",
   "pygments_lexer": "ipython3",
   "version": "3.13.2"
  }
 },
 "nbformat": 4,
 "nbformat_minor": 5
}
